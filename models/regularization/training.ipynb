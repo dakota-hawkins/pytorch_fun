{
 "cells": [
  {
   "cell_type": "markdown",
   "metadata": {},
   "source": [
    "# Weight Decay Regularization\n",
    "\n",
    "This notebook explores weight decay regularization in the form of a two-layer MLP being\n",
    "trained on the MNIST dataset. Both train and test error are evaluated in the context of\n",
    "no regularization, L2 regularization, and L1 regularization.\n",
    "\n",
    "## Implementation\n",
    "\n",
    "Generally speaking, regularizing a loss function via weight decay has the following form:\n",
    "\n",
    " $$\\hat J(\\sigma; X, y) = J(\\sigma, X, y) + \\alpha \\Omega(\\sigma) $$\n",
    "\n",
    " For loss function **J** and regularizer **Ω**. Assuming **w** represent the weights we wish to parameterize, L2 and L1 regularization have following forms:\n",
    "\n",
    "\n",
    "#### L2:\n",
    "\n",
    "$$\\Omega(w) = \\|w \\|_2 = \\frac{\\alpha}{2} w^Tw$$\n",
    "\n",
    "#### L1:\n",
    "\n",
    "$$\\Omega(w) = \\|w \\|_1 = \\alpha \\sum_i |w_i|$$\n",
    "\n",
    "In `PyTorch`, generally speakign L2 regularization is performed by setting the `weight_decay` variable for your given optimizer. This is done in the `L2WeightDecayMnistMLP` initializer:\n",
    "\n",
    "```python\n",
    "class L2WeightDecayMnistMLP(MnistMLP):\n",
    "    def __init__(self, rate=1e-3, h1_size=784, h2_size=392, weight_decay=0.01):\n",
    "        super().__init__(rate, h1_size, h2_size)\n",
    "        self.optimizer = torch.optim.SGD(\n",
    "            self.parameters(), lr=rate, weight_decay=weight_decay\n",
    "        )\n",
    "        self.weight_decay = weight_decay\n",
    "```\n",
    "\n",
    "However, L1 regularization is not supported out of the box. Additionally, without looking into the source code, it's likely (as seen below) weight decay is being applied to bias parameters **as well as** the interaction weights. This is generally undesirable, as bias weights have little chance to overfit but can can result in underfitting if stringent regularization is applied. Therefore, L1 __and__ L2 weight decay were additionally implemented in the `__calculate_loss()` function of the `RegularizedMnistMLP` class:\n",
    "\n",
    "\n",
    "```python\n",
    "def __calculate_loss(self, y_pred, y):\n",
    "    unweighed_loss = super().__calculate_loss(y_pred, y)\n",
    "    # don't penalize bias parameters per p. 223 of Goodfellow et al.\n",
    "    weight_norm = sum(\n",
    "        torch.linalg.norm(p, self.norm)\n",
    "        for (name, p) in self.named_parameters()\n",
    "        if \"bias\" not in name\n",
    "    )\n",
    "    return unweighed_loss + self.weight_decay * weight_norm\n",
    "```\n",
    "## Set Up"
   ]
  },
  {
   "cell_type": "code",
   "execution_count": 1,
   "metadata": {},
   "outputs": [],
   "source": [
    "import torch\n",
    "from torch.utils.data import DataLoader\n",
    "from sklearn import metrics\n",
    "import numpy as np\n",
    "\n",
    "from nets import *\n",
    "\n",
    "train_mnist = get_mnist(train=True)\n",
    "test_mnist = get_mnist(train = False)"
   ]
  },
  {
   "cell_type": "markdown",
   "metadata": {},
   "source": [
    "## Helper Functions\n",
    "\n",
    "1. `get_fit_model()`\n",
    "    - Train our models for 50 epochs or load previously saved models if the same model has already been trained. Fewer epochs were chosen to highlight differences between approaches.\n",
    "2. `evaluate_model()`\n",
    "    - Evaluate model on a provided data split using the Matthew's Correlation Coefficient and calculated loss."
   ]
  },
  {
   "cell_type": "code",
   "execution_count": 2,
   "metadata": {},
   "outputs": [],
   "source": [
    "def get_fit_model(model, model_name, data_loader, force_train = False):\n",
    "    save_path = pathlib.Path(\"trained_models\").joinpath(f\"{model_name}.pt\")\n",
    "    if not save_path.exists() or force_train:\n",
    "        print(f\"No model found at {str(save_path)}. Fitting...\")\n",
    "        model.to(model.get_device())\n",
    "        model.fit(data_loader, n_epochs=50, verbose=True, verbose_step=10, track_loss=True)\n",
    "        print(f\"Model fit, saving weights to {str(save_path)}.\")\n",
    "        torch.save(model, save_path)\n",
    "    else:\n",
    "        print(\"Previously trained model discovered, loading model.\")\n",
    "        model = torch.load(save_path)\n",
    "    return model"
   ]
  },
  {
   "cell_type": "code",
   "execution_count": 3,
   "metadata": {},
   "outputs": [],
   "source": [
    "def evaluate_model(model, data_loader, split):\n",
    "    mccs = np.zeros(len(data_loader))\n",
    "    loss = np.zeros(len(data_loader))\n",
    "    model.eval()\n",
    "    with torch.no_grad():\n",
    "        for i, (X, y) in enumerate(data_loader):\n",
    "            y_hat = model(X.to(model.get_device()))\n",
    "            y_pred = y_hat.argmax(axis=1)\n",
    "            loss[i] = model.loss(y_hat, y.to(model.get_device())).cpu().item()\n",
    "            mccs[i] = metrics.matthews_corrcoef(y.cpu(), y_pred.cpu())\n",
    "    print(f\"Mean {split} MCC {mccs.mean():0.2f}, Mean loss: {loss.mean():0.7f}\")\n",
    "    return(mccs, loss)\n"
   ]
  },
  {
   "cell_type": "markdown",
   "metadata": {},
   "source": [
    "## Full Model Training"
   ]
  },
  {
   "cell_type": "code",
   "execution_count": 4,
   "metadata": {},
   "outputs": [
    {
     "name": "stdout",
     "output_type": "stream",
     "text": [
      "MnistMLP(\n",
      "  (mlp): Sequential(\n",
      "    (0): Linear(in_features=784, out_features=784, bias=True)\n",
      "    (1): ReLU()\n",
      "    (2): Linear(in_features=784, out_features=392, bias=True)\n",
      "    (3): ReLU()\n",
      "    (4): Linear(in_features=392, out_features=10, bias=True)\n",
      "    (5): LogSoftmax(dim=1)\n",
      "  )\n",
      "  (loss): NLLLoss()\n",
      ")\n"
     ]
    }
   ],
   "source": [
    "full_model = MnistMLP(rate=0.01)\n",
    "print(full_model)"
   ]
  },
  {
   "cell_type": "code",
   "execution_count": 5,
   "metadata": {},
   "outputs": [
    {
     "data": {
      "image/svg+xml": [
       "<?xml version=\"1.0\" encoding=\"UTF-8\" standalone=\"no\"?>\n",
       "<!DOCTYPE svg PUBLIC \"-//W3C//DTD SVG 1.1//EN\"\n",
       " \"http://www.w3.org/Graphics/SVG/1.1/DTD/svg11.dtd\">\n",
       "<!-- Generated by graphviz version 2.50.0 (0)\n",
       " -->\n",
       "<!-- Pages: 1 -->\n",
       "<svg width=\"424pt\" height=\"655pt\"\n",
       " viewBox=\"0.00 0.00 424.00 655.00\" xmlns=\"http://www.w3.org/2000/svg\" xmlns:xlink=\"http://www.w3.org/1999/xlink\">\n",
       "<g id=\"graph0\" class=\"graph\" transform=\"scale(1 1) rotate(0) translate(4 651)\">\n",
       "<polygon fill=\"white\" stroke=\"transparent\" points=\"-4,4 -4,-651 420,-651 420,4 -4,4\"/>\n",
       "<!-- 2947247727504 -->\n",
       "<g id=\"node1\" class=\"node\">\n",
       "<title>2947247727504</title>\n",
       "<polygon fill=\"#caff70\" stroke=\"black\" points=\"219.5,-31 165.5,-31 165.5,0 219.5,0 219.5,-31\"/>\n",
       "<text text-anchor=\"middle\" x=\"192.5\" y=\"-7\" font-family=\"monospace\" font-size=\"10.00\"> ()</text>\n",
       "</g>\n",
       "<!-- 2946894337632 -->\n",
       "<g id=\"node2\" class=\"node\">\n",
       "<title>2946894337632</title>\n",
       "<polygon fill=\"lightgrey\" stroke=\"black\" points=\"240,-86 145,-86 145,-67 240,-67 240,-86\"/>\n",
       "<text text-anchor=\"middle\" x=\"192.5\" y=\"-74\" font-family=\"monospace\" font-size=\"10.00\">MeanBackward0</text>\n",
       "</g>\n",
       "<!-- 2946894337632&#45;&gt;2947247727504 -->\n",
       "<g id=\"edge22\" class=\"edge\">\n",
       "<title>2946894337632&#45;&gt;2947247727504</title>\n",
       "<path fill=\"none\" stroke=\"black\" d=\"M192.5,-66.79C192.5,-60.07 192.5,-50.4 192.5,-41.34\"/>\n",
       "<polygon fill=\"black\" stroke=\"black\" points=\"196,-41.19 192.5,-31.19 189,-41.19 196,-41.19\"/>\n",
       "</g>\n",
       "<!-- 2946896741232 -->\n",
       "<g id=\"node3\" class=\"node\">\n",
       "<title>2946896741232</title>\n",
       "<polygon fill=\"lightgrey\" stroke=\"black\" points=\"258,-141 127,-141 127,-122 258,-122 258,-141\"/>\n",
       "<text text-anchor=\"middle\" x=\"192.5\" y=\"-129\" font-family=\"monospace\" font-size=\"10.00\">LogSoftmaxBackward0</text>\n",
       "</g>\n",
       "<!-- 2946896741232&#45;&gt;2946894337632 -->\n",
       "<g id=\"edge1\" class=\"edge\">\n",
       "<title>2946896741232&#45;&gt;2946894337632</title>\n",
       "<path fill=\"none\" stroke=\"black\" d=\"M192.5,-121.75C192.5,-114.8 192.5,-104.85 192.5,-96.13\"/>\n",
       "<polygon fill=\"black\" stroke=\"black\" points=\"196,-96.09 192.5,-86.09 189,-96.09 196,-96.09\"/>\n",
       "</g>\n",
       "<!-- 2947251891040 -->\n",
       "<g id=\"node4\" class=\"node\">\n",
       "<title>2947251891040</title>\n",
       "<polygon fill=\"lightgrey\" stroke=\"black\" points=\"243,-196 142,-196 142,-177 243,-177 243,-196\"/>\n",
       "<text text-anchor=\"middle\" x=\"192.5\" y=\"-184\" font-family=\"monospace\" font-size=\"10.00\">AddmmBackward0</text>\n",
       "</g>\n",
       "<!-- 2947251891040&#45;&gt;2946896741232 -->\n",
       "<g id=\"edge2\" class=\"edge\">\n",
       "<title>2947251891040&#45;&gt;2946896741232</title>\n",
       "<path fill=\"none\" stroke=\"black\" d=\"M192.5,-176.75C192.5,-169.8 192.5,-159.85 192.5,-151.13\"/>\n",
       "<polygon fill=\"black\" stroke=\"black\" points=\"196,-151.09 192.5,-141.09 189,-151.09 196,-151.09\"/>\n",
       "</g>\n",
       "<!-- 2947251896032 -->\n",
       "<g id=\"node5\" class=\"node\">\n",
       "<title>2947251896032</title>\n",
       "<polygon fill=\"lightgrey\" stroke=\"black\" points=\"127,-251 26,-251 26,-232 127,-232 127,-251\"/>\n",
       "<text text-anchor=\"middle\" x=\"76.5\" y=\"-239\" font-family=\"monospace\" font-size=\"10.00\">AccumulateGrad</text>\n",
       "</g>\n",
       "<!-- 2947251896032&#45;&gt;2947251891040 -->\n",
       "<g id=\"edge3\" class=\"edge\">\n",
       "<title>2947251896032&#45;&gt;2947251891040</title>\n",
       "<path fill=\"none\" stroke=\"black\" d=\"M95.14,-231.98C113.8,-223.46 142.75,-210.23 164.24,-200.41\"/>\n",
       "<polygon fill=\"black\" stroke=\"black\" points=\"165.88,-203.51 173.52,-196.17 162.97,-197.14 165.88,-203.51\"/>\n",
       "</g>\n",
       "<!-- 2947247721840 -->\n",
       "<g id=\"node6\" class=\"node\">\n",
       "<title>2947247721840</title>\n",
       "<polygon fill=\"lightblue\" stroke=\"black\" points=\"115,-317 38,-317 38,-287 115,-287 115,-317\"/>\n",
       "<text text-anchor=\"middle\" x=\"76.5\" y=\"-305\" font-family=\"monospace\" font-size=\"10.00\">mlp.4.bias</text>\n",
       "<text text-anchor=\"middle\" x=\"76.5\" y=\"-294\" font-family=\"monospace\" font-size=\"10.00\"> (10)</text>\n",
       "</g>\n",
       "<!-- 2947247721840&#45;&gt;2947251896032 -->\n",
       "<g id=\"edge4\" class=\"edge\">\n",
       "<title>2947247721840&#45;&gt;2947251896032</title>\n",
       "<path fill=\"none\" stroke=\"black\" d=\"M76.5,-286.84C76.5,-279.21 76.5,-269.7 76.5,-261.45\"/>\n",
       "<polygon fill=\"black\" stroke=\"black\" points=\"80,-261.27 76.5,-251.27 73,-261.27 80,-261.27\"/>\n",
       "</g>\n",
       "<!-- 2947251895888 -->\n",
       "<g id=\"node7\" class=\"node\">\n",
       "<title>2947251895888</title>\n",
       "<polygon fill=\"lightgrey\" stroke=\"black\" points=\"240,-251 145,-251 145,-232 240,-232 240,-251\"/>\n",
       "<text text-anchor=\"middle\" x=\"192.5\" y=\"-239\" font-family=\"monospace\" font-size=\"10.00\">ReluBackward0</text>\n",
       "</g>\n",
       "<!-- 2947251895888&#45;&gt;2947251891040 -->\n",
       "<g id=\"edge5\" class=\"edge\">\n",
       "<title>2947251895888&#45;&gt;2947251891040</title>\n",
       "<path fill=\"none\" stroke=\"black\" d=\"M192.5,-231.75C192.5,-224.8 192.5,-214.85 192.5,-206.13\"/>\n",
       "<polygon fill=\"black\" stroke=\"black\" points=\"196,-206.09 192.5,-196.09 189,-206.09 196,-206.09\"/>\n",
       "</g>\n",
       "<!-- 2947251888976 -->\n",
       "<g id=\"node8\" class=\"node\">\n",
       "<title>2947251888976</title>\n",
       "<polygon fill=\"lightgrey\" stroke=\"black\" points=\"238,-311.5 137,-311.5 137,-292.5 238,-292.5 238,-311.5\"/>\n",
       "<text text-anchor=\"middle\" x=\"187.5\" y=\"-299.5\" font-family=\"monospace\" font-size=\"10.00\">AddmmBackward0</text>\n",
       "</g>\n",
       "<!-- 2947251888976&#45;&gt;2947251895888 -->\n",
       "<g id=\"edge6\" class=\"edge\">\n",
       "<title>2947251888976&#45;&gt;2947251895888</title>\n",
       "<path fill=\"none\" stroke=\"black\" d=\"M188.24,-292.37C188.93,-284.25 190,-271.81 190.89,-261.39\"/>\n",
       "<polygon fill=\"black\" stroke=\"black\" points=\"194.39,-261.43 191.76,-251.17 187.42,-260.83 194.39,-261.43\"/>\n",
       "</g>\n",
       "<!-- 2947251896080 -->\n",
       "<g id=\"node9\" class=\"node\">\n",
       "<title>2947251896080</title>\n",
       "<polygon fill=\"lightgrey\" stroke=\"black\" points=\"101,-377.5 0,-377.5 0,-358.5 101,-358.5 101,-377.5\"/>\n",
       "<text text-anchor=\"middle\" x=\"50.5\" y=\"-365.5\" font-family=\"monospace\" font-size=\"10.00\">AccumulateGrad</text>\n",
       "</g>\n",
       "<!-- 2947251896080&#45;&gt;2947251888976 -->\n",
       "<g id=\"edge7\" class=\"edge\">\n",
       "<title>2947251896080&#45;&gt;2947251888976</title>\n",
       "<path fill=\"none\" stroke=\"black\" d=\"M68.98,-358.37C92.26,-347.49 132.51,-328.69 159.56,-316.05\"/>\n",
       "<polygon fill=\"black\" stroke=\"black\" points=\"161.3,-319.1 168.88,-311.7 158.34,-312.76 161.3,-319.1\"/>\n",
       "</g>\n",
       "<!-- 2946896342448 -->\n",
       "<g id=\"node10\" class=\"node\">\n",
       "<title>2946896342448</title>\n",
       "<polygon fill=\"lightblue\" stroke=\"black\" points=\"89,-449 12,-449 12,-419 89,-419 89,-449\"/>\n",
       "<text text-anchor=\"middle\" x=\"50.5\" y=\"-437\" font-family=\"monospace\" font-size=\"10.00\">mlp.2.bias</text>\n",
       "<text text-anchor=\"middle\" x=\"50.5\" y=\"-426\" font-family=\"monospace\" font-size=\"10.00\"> (392)</text>\n",
       "</g>\n",
       "<!-- 2946896342448&#45;&gt;2947251896080 -->\n",
       "<g id=\"edge8\" class=\"edge\">\n",
       "<title>2946896342448&#45;&gt;2947251896080</title>\n",
       "<path fill=\"none\" stroke=\"black\" d=\"M50.5,-418.8C50.5,-409.7 50.5,-397.79 50.5,-387.9\"/>\n",
       "<polygon fill=\"black\" stroke=\"black\" points=\"54,-387.84 50.5,-377.84 47,-387.84 54,-387.84\"/>\n",
       "</g>\n",
       "<!-- 2947251890224 -->\n",
       "<g id=\"node11\" class=\"node\">\n",
       "<title>2947251890224</title>\n",
       "<polygon fill=\"lightgrey\" stroke=\"black\" points=\"214,-377.5 119,-377.5 119,-358.5 214,-358.5 214,-377.5\"/>\n",
       "<text text-anchor=\"middle\" x=\"166.5\" y=\"-365.5\" font-family=\"monospace\" font-size=\"10.00\">ReluBackward0</text>\n",
       "</g>\n",
       "<!-- 2947251890224&#45;&gt;2947251888976 -->\n",
       "<g id=\"edge9\" class=\"edge\">\n",
       "<title>2947251890224&#45;&gt;2947251888976</title>\n",
       "<path fill=\"none\" stroke=\"black\" d=\"M169.33,-358.37C172.41,-348.97 177.44,-333.67 181.42,-321.53\"/>\n",
       "<polygon fill=\"black\" stroke=\"black\" points=\"184.79,-322.5 184.58,-311.91 178.13,-320.32 184.79,-322.5\"/>\n",
       "</g>\n",
       "<!-- 2947251893344 -->\n",
       "<g id=\"node12\" class=\"node\">\n",
       "<title>2947251893344</title>\n",
       "<polygon fill=\"lightgrey\" stroke=\"black\" points=\"212,-443.5 111,-443.5 111,-424.5 212,-424.5 212,-443.5\"/>\n",
       "<text text-anchor=\"middle\" x=\"161.5\" y=\"-431.5\" font-family=\"monospace\" font-size=\"10.00\">AddmmBackward0</text>\n",
       "</g>\n",
       "<!-- 2947251893344&#45;&gt;2947251890224 -->\n",
       "<g id=\"edge10\" class=\"edge\">\n",
       "<title>2947251893344&#45;&gt;2947251890224</title>\n",
       "<path fill=\"none\" stroke=\"black\" d=\"M162.17,-424.37C162.9,-415.07 164.08,-399.98 165.02,-387.9\"/>\n",
       "<polygon fill=\"black\" stroke=\"black\" points=\"168.51,-388.15 165.8,-377.91 161.54,-387.6 168.51,-388.15\"/>\n",
       "</g>\n",
       "<!-- 2947251893152 -->\n",
       "<g id=\"node13\" class=\"node\">\n",
       "<title>2947251893152</title>\n",
       "<polygon fill=\"lightgrey\" stroke=\"black\" points=\"114,-509.5 13,-509.5 13,-490.5 114,-490.5 114,-509.5\"/>\n",
       "<text text-anchor=\"middle\" x=\"63.5\" y=\"-497.5\" font-family=\"monospace\" font-size=\"10.00\">AccumulateGrad</text>\n",
       "</g>\n",
       "<!-- 2947251893152&#45;&gt;2947251893344 -->\n",
       "<g id=\"edge11\" class=\"edge\">\n",
       "<title>2947251893152&#45;&gt;2947251893344</title>\n",
       "<path fill=\"none\" stroke=\"black\" d=\"M76.72,-490.37C92.86,-479.82 120.41,-461.84 139.71,-449.23\"/>\n",
       "<polygon fill=\"black\" stroke=\"black\" points=\"141.72,-452.1 148.18,-443.7 137.89,-446.24 141.72,-452.1\"/>\n",
       "</g>\n",
       "<!-- 2946896342352 -->\n",
       "<g id=\"node14\" class=\"node\">\n",
       "<title>2946896342352</title>\n",
       "<polygon fill=\"lightblue\" stroke=\"black\" points=\"102,-581 25,-581 25,-551 102,-551 102,-581\"/>\n",
       "<text text-anchor=\"middle\" x=\"63.5\" y=\"-569\" font-family=\"monospace\" font-size=\"10.00\">mlp.0.bias</text>\n",
       "<text text-anchor=\"middle\" x=\"63.5\" y=\"-558\" font-family=\"monospace\" font-size=\"10.00\"> (784)</text>\n",
       "</g>\n",
       "<!-- 2946896342352&#45;&gt;2947251893152 -->\n",
       "<g id=\"edge12\" class=\"edge\">\n",
       "<title>2946896342352&#45;&gt;2947251893152</title>\n",
       "<path fill=\"none\" stroke=\"black\" d=\"M63.5,-550.8C63.5,-541.7 63.5,-529.79 63.5,-519.9\"/>\n",
       "<polygon fill=\"black\" stroke=\"black\" points=\"67,-519.84 63.5,-509.84 60,-519.84 67,-519.84\"/>\n",
       "</g>\n",
       "<!-- 2947251893392 -->\n",
       "<g id=\"node15\" class=\"node\">\n",
       "<title>2947251893392</title>\n",
       "<polygon fill=\"lightgrey\" stroke=\"black\" points=\"209,-509.5 132,-509.5 132,-490.5 209,-490.5 209,-509.5\"/>\n",
       "<text text-anchor=\"middle\" x=\"170.5\" y=\"-497.5\" font-family=\"monospace\" font-size=\"10.00\">TBackward0</text>\n",
       "</g>\n",
       "<!-- 2947251893392&#45;&gt;2947251893344 -->\n",
       "<g id=\"edge13\" class=\"edge\">\n",
       "<title>2947251893392&#45;&gt;2947251893344</title>\n",
       "<path fill=\"none\" stroke=\"black\" d=\"M169.29,-490.37C167.98,-481.07 165.86,-465.98 164.16,-453.9\"/>\n",
       "<polygon fill=\"black\" stroke=\"black\" points=\"167.61,-453.32 162.75,-443.91 160.68,-454.3 167.61,-453.32\"/>\n",
       "</g>\n",
       "<!-- 2947251895936 -->\n",
       "<g id=\"node16\" class=\"node\">\n",
       "<title>2947251895936</title>\n",
       "<polygon fill=\"lightgrey\" stroke=\"black\" points=\"221,-575.5 120,-575.5 120,-556.5 221,-556.5 221,-575.5\"/>\n",
       "<text text-anchor=\"middle\" x=\"170.5\" y=\"-563.5\" font-family=\"monospace\" font-size=\"10.00\">AccumulateGrad</text>\n",
       "</g>\n",
       "<!-- 2947251895936&#45;&gt;2947251893392 -->\n",
       "<g id=\"edge14\" class=\"edge\">\n",
       "<title>2947251895936&#45;&gt;2947251893392</title>\n",
       "<path fill=\"none\" stroke=\"black\" d=\"M170.5,-556.37C170.5,-547.16 170.5,-532.29 170.5,-520.27\"/>\n",
       "<polygon fill=\"black\" stroke=\"black\" points=\"174,-519.91 170.5,-509.91 167,-519.91 174,-519.91\"/>\n",
       "</g>\n",
       "<!-- 2947248757104 -->\n",
       "<g id=\"node17\" class=\"node\">\n",
       "<title>2947248757104</title>\n",
       "<polygon fill=\"lightblue\" stroke=\"black\" points=\"215,-647 126,-647 126,-617 215,-617 215,-647\"/>\n",
       "<text text-anchor=\"middle\" x=\"170.5\" y=\"-635\" font-family=\"monospace\" font-size=\"10.00\">mlp.0.weight</text>\n",
       "<text text-anchor=\"middle\" x=\"170.5\" y=\"-624\" font-family=\"monospace\" font-size=\"10.00\"> (784, 784)</text>\n",
       "</g>\n",
       "<!-- 2947248757104&#45;&gt;2947251895936 -->\n",
       "<g id=\"edge15\" class=\"edge\">\n",
       "<title>2947248757104&#45;&gt;2947251895936</title>\n",
       "<path fill=\"none\" stroke=\"black\" d=\"M170.5,-616.8C170.5,-607.7 170.5,-595.79 170.5,-585.9\"/>\n",
       "<polygon fill=\"black\" stroke=\"black\" points=\"174,-585.84 170.5,-575.84 167,-585.84 174,-585.84\"/>\n",
       "</g>\n",
       "<!-- 2947251890128 -->\n",
       "<g id=\"node18\" class=\"node\">\n",
       "<title>2947251890128</title>\n",
       "<polygon fill=\"lightgrey\" stroke=\"black\" points=\"309,-377.5 232,-377.5 232,-358.5 309,-358.5 309,-377.5\"/>\n",
       "<text text-anchor=\"middle\" x=\"270.5\" y=\"-365.5\" font-family=\"monospace\" font-size=\"10.00\">TBackward0</text>\n",
       "</g>\n",
       "<!-- 2947251890128&#45;&gt;2947251888976 -->\n",
       "<g id=\"edge16\" class=\"edge\">\n",
       "<title>2947251890128&#45;&gt;2947251888976</title>\n",
       "<path fill=\"none\" stroke=\"black\" d=\"M259.31,-358.37C245.94,-348.06 223.35,-330.65 207.08,-318.09\"/>\n",
       "<polygon fill=\"black\" stroke=\"black\" points=\"208.84,-315.03 198.78,-311.7 204.56,-320.58 208.84,-315.03\"/>\n",
       "</g>\n",
       "<!-- 2947251889504 -->\n",
       "<g id=\"node19\" class=\"node\">\n",
       "<title>2947251889504</title>\n",
       "<polygon fill=\"lightgrey\" stroke=\"black\" points=\"331,-443.5 230,-443.5 230,-424.5 331,-424.5 331,-443.5\"/>\n",
       "<text text-anchor=\"middle\" x=\"280.5\" y=\"-431.5\" font-family=\"monospace\" font-size=\"10.00\">AccumulateGrad</text>\n",
       "</g>\n",
       "<!-- 2947251889504&#45;&gt;2947251890128 -->\n",
       "<g id=\"edge17\" class=\"edge\">\n",
       "<title>2947251889504&#45;&gt;2947251890128</title>\n",
       "<path fill=\"none\" stroke=\"black\" d=\"M279.15,-424.37C277.7,-415.07 275.34,-399.98 273.45,-387.9\"/>\n",
       "<polygon fill=\"black\" stroke=\"black\" points=\"276.89,-387.25 271.89,-377.91 269.98,-388.33 276.89,-387.25\"/>\n",
       "</g>\n",
       "<!-- 2947249380752 -->\n",
       "<g id=\"node20\" class=\"node\">\n",
       "<title>2947249380752</title>\n",
       "<polygon fill=\"lightblue\" stroke=\"black\" points=\"325,-515 236,-515 236,-485 325,-485 325,-515\"/>\n",
       "<text text-anchor=\"middle\" x=\"280.5\" y=\"-503\" font-family=\"monospace\" font-size=\"10.00\">mlp.2.weight</text>\n",
       "<text text-anchor=\"middle\" x=\"280.5\" y=\"-492\" font-family=\"monospace\" font-size=\"10.00\"> (392, 784)</text>\n",
       "</g>\n",
       "<!-- 2947249380752&#45;&gt;2947251889504 -->\n",
       "<g id=\"edge18\" class=\"edge\">\n",
       "<title>2947249380752&#45;&gt;2947251889504</title>\n",
       "<path fill=\"none\" stroke=\"black\" d=\"M280.5,-484.8C280.5,-475.7 280.5,-463.79 280.5,-453.9\"/>\n",
       "<polygon fill=\"black\" stroke=\"black\" points=\"284,-453.84 280.5,-443.84 277,-453.84 284,-453.84\"/>\n",
       "</g>\n",
       "<!-- 2947251893056 -->\n",
       "<g id=\"node21\" class=\"node\">\n",
       "<title>2947251893056</title>\n",
       "<polygon fill=\"lightgrey\" stroke=\"black\" points=\"361,-251 284,-251 284,-232 361,-232 361,-251\"/>\n",
       "<text text-anchor=\"middle\" x=\"322.5\" y=\"-239\" font-family=\"monospace\" font-size=\"10.00\">TBackward0</text>\n",
       "</g>\n",
       "<!-- 2947251893056&#45;&gt;2947251891040 -->\n",
       "<g id=\"edge19\" class=\"edge\">\n",
       "<title>2947251893056&#45;&gt;2947251891040</title>\n",
       "<path fill=\"none\" stroke=\"black\" d=\"M301.61,-231.98C280.42,-223.34 247.37,-209.87 223.2,-200.02\"/>\n",
       "<polygon fill=\"black\" stroke=\"black\" points=\"224.35,-196.7 213.77,-196.17 221.71,-203.19 224.35,-196.7\"/>\n",
       "</g>\n",
       "<!-- 2947251895984 -->\n",
       "<g id=\"node22\" class=\"node\">\n",
       "<title>2947251895984</title>\n",
       "<polygon fill=\"lightgrey\" stroke=\"black\" points=\"400,-311.5 299,-311.5 299,-292.5 400,-292.5 400,-311.5\"/>\n",
       "<text text-anchor=\"middle\" x=\"349.5\" y=\"-299.5\" font-family=\"monospace\" font-size=\"10.00\">AccumulateGrad</text>\n",
       "</g>\n",
       "<!-- 2947251895984&#45;&gt;2947251893056 -->\n",
       "<g id=\"edge20\" class=\"edge\">\n",
       "<title>2947251895984&#45;&gt;2947251893056</title>\n",
       "<path fill=\"none\" stroke=\"black\" d=\"M345.52,-292.37C341.65,-283.99 335.66,-271.01 330.76,-260.39\"/>\n",
       "<polygon fill=\"black\" stroke=\"black\" points=\"333.87,-258.78 326.5,-251.17 327.51,-261.71 333.87,-258.78\"/>\n",
       "</g>\n",
       "<!-- 2946896343600 -->\n",
       "<g id=\"node23\" class=\"node\">\n",
       "<title>2946896343600</title>\n",
       "<polygon fill=\"lightblue\" stroke=\"black\" points=\"416,-383 327,-383 327,-353 416,-353 416,-383\"/>\n",
       "<text text-anchor=\"middle\" x=\"371.5\" y=\"-371\" font-family=\"monospace\" font-size=\"10.00\">mlp.4.weight</text>\n",
       "<text text-anchor=\"middle\" x=\"371.5\" y=\"-360\" font-family=\"monospace\" font-size=\"10.00\"> (10, 392)</text>\n",
       "</g>\n",
       "<!-- 2946896343600&#45;&gt;2947251895984 -->\n",
       "<g id=\"edge21\" class=\"edge\">\n",
       "<title>2946896343600&#45;&gt;2947251895984</title>\n",
       "<path fill=\"none\" stroke=\"black\" d=\"M366.62,-352.8C363.46,-343.6 359.31,-331.53 355.89,-321.58\"/>\n",
       "<polygon fill=\"black\" stroke=\"black\" points=\"359.1,-320.16 352.54,-311.84 352.48,-322.44 359.1,-320.16\"/>\n",
       "</g>\n",
       "</g>\n",
       "</svg>\n"
      ],
      "text/plain": [
       "<graphviz.graphs.Digraph at 0x2ae35e8d150>"
      ]
     },
     "execution_count": 5,
     "metadata": {},
     "output_type": "execute_result"
    }
   ],
   "source": [
    "full_model.draw_network()"
   ]
  },
  {
   "cell_type": "code",
   "execution_count": 6,
   "metadata": {},
   "outputs": [],
   "source": [
    "training_data = DataLoader(train_mnist, batch_size=64, shuffle=True)"
   ]
  },
  {
   "cell_type": "code",
   "execution_count": 7,
   "metadata": {},
   "outputs": [
    {
     "name": "stdout",
     "output_type": "stream",
     "text": [
      "No model found at trained_models\\full_model.pt. Fitting...\n",
      "Loss: 1.501318 [    1/   50]\n",
      "Loss: 0.208726 [   10/   50]\n",
      "Loss: 0.121589 [   20/   50]\n",
      "Loss: 0.079487 [   30/   50]\n",
      "Loss: 0.054551 [   40/   50]\n",
      "Loss: 0.039228 [   50/   50]\n",
      "Model fit, saving weights to trained_models\\full_model.pt.\n"
     ]
    }
   ],
   "source": [
    "full_model = get_fit_model(full_model, \"full_model\", training_data, force_train=False)"
   ]
  },
  {
   "cell_type": "code",
   "execution_count": 8,
   "metadata": {},
   "outputs": [
    {
     "name": "stdout",
     "output_type": "stream",
     "text": [
      "Mean train MCC 0.99, Mean loss: 0.0373971\n"
     ]
    }
   ],
   "source": [
    "full_model_train_results = evaluate_model(full_model, training_data, \"train\")"
   ]
  },
  {
   "cell_type": "code",
   "execution_count": 9,
   "metadata": {},
   "outputs": [
    {
     "name": "stdout",
     "output_type": "stream",
     "text": [
      "Mean test MCC 0.98, Mean loss: 0.0712454\n"
     ]
    }
   ],
   "source": [
    "test_data = DataLoader(test_mnist, batch_size=64, shuffle=True)\n",
    "full_model_test_results = evaluate_model(full_model, test_data, \"test\")"
   ]
  },
  {
   "cell_type": "markdown",
   "metadata": {},
   "source": [
    "## L2 Regularized Model - Weight Decay"
   ]
  },
  {
   "cell_type": "code",
   "execution_count": 10,
   "metadata": {},
   "outputs": [
    {
     "name": "stdout",
     "output_type": "stream",
     "text": [
      "L2WeightDecayMnistMLP(\n",
      "  (mlp): Sequential(\n",
      "    (0): Linear(in_features=784, out_features=784, bias=True)\n",
      "    (1): ReLU()\n",
      "    (2): Linear(in_features=784, out_features=392, bias=True)\n",
      "    (3): ReLU()\n",
      "    (4): Linear(in_features=392, out_features=10, bias=True)\n",
      "    (5): LogSoftmax(dim=1)\n",
      "  )\n",
      "  (loss): NLLLoss()\n",
      ")\n"
     ]
    }
   ],
   "source": [
    "weight_decay_model = L2WeightDecayMnistMLP(rate=0.01)\n",
    "print(weight_decay_model)"
   ]
  },
  {
   "cell_type": "code",
   "execution_count": 11,
   "metadata": {},
   "outputs": [
    {
     "name": "stdout",
     "output_type": "stream",
     "text": [
      "No model found at trained_models\\weight_decay_model.pt. Fitting...\n",
      "Loss: 1.601467 [    1/   50]\n",
      "Loss: 0.296922 [   10/   50]\n",
      "Loss: 0.248246 [   20/   50]\n",
      "Loss: 0.227912 [   30/   50]\n",
      "Loss: 0.217188 [   40/   50]\n",
      "Loss: 0.210951 [   50/   50]\n",
      "Model fit, saving weights to trained_models\\weight_decay_model.pt.\n"
     ]
    }
   ],
   "source": [
    "weight_decay_model = get_fit_model(weight_decay_model, \"weight_decay_model\", training_data, force_train=False)"
   ]
  },
  {
   "cell_type": "code",
   "execution_count": 12,
   "metadata": {},
   "outputs": [
    {
     "name": "stdout",
     "output_type": "stream",
     "text": [
      "Mean train MCC 0.94, Mean loss: 0.2095855\n"
     ]
    }
   ],
   "source": [
    "weight_decay_model_train_results = evaluate_model(weight_decay_model, training_data, \"train\")"
   ]
  },
  {
   "cell_type": "code",
   "execution_count": 13,
   "metadata": {},
   "outputs": [
    {
     "name": "stdout",
     "output_type": "stream",
     "text": [
      "Mean test MCC 0.94, Mean loss: 0.2042432\n"
     ]
    }
   ],
   "source": [
    "weight_decay_model_test_results = evaluate_model(weight_decay_model, test_data, \"test\")"
   ]
  },
  {
   "cell_type": "markdown",
   "metadata": {},
   "source": [
    "## L2 Regularization - Only Weights"
   ]
  },
  {
   "cell_type": "code",
   "execution_count": 14,
   "metadata": {},
   "outputs": [
    {
     "name": "stdout",
     "output_type": "stream",
     "text": [
      "RegularizedMnistMLP(\n",
      "  (mlp): Sequential(\n",
      "    (0): Linear(in_features=784, out_features=784, bias=True)\n",
      "    (1): ReLU()\n",
      "    (2): Linear(in_features=784, out_features=392, bias=True)\n",
      "    (3): ReLU()\n",
      "    (4): Linear(in_features=392, out_features=10, bias=True)\n",
      "    (5): LogSoftmax(dim=1)\n",
      "  )\n",
      "  (loss): NLLLoss()\n",
      ")\n"
     ]
    }
   ],
   "source": [
    "\n",
    "l2_model = RegularizedMnistMLP(norm = 2, rate=0.01)\n",
    "print(l2_model)"
   ]
  },
  {
   "cell_type": "code",
   "execution_count": 15,
   "metadata": {},
   "outputs": [
    {
     "name": "stdout",
     "output_type": "stream",
     "text": [
      "No model found at trained_models\\l2_model.pt. Fitting...\n",
      "Loss: 1.550503 [    1/   50]\n",
      "Loss: 0.204988 [   10/   50]\n",
      "Loss: 0.120447 [   20/   50]\n",
      "Loss: 0.078865 [   30/   50]\n",
      "Loss: 0.055032 [   40/   50]\n",
      "Loss: 0.039483 [   50/   50]\n",
      "Model fit, saving weights to trained_models\\l2_model.pt.\n"
     ]
    }
   ],
   "source": [
    "l2_model = get_fit_model(l2_model, \"l2_model\", training_data, force_train=False)"
   ]
  },
  {
   "cell_type": "code",
   "execution_count": 16,
   "metadata": {},
   "outputs": [
    {
     "name": "stdout",
     "output_type": "stream",
     "text": [
      "Mean train MCC 0.99, Mean loss: 0.0376031\n"
     ]
    }
   ],
   "source": [
    "l2_model_train_results = evaluate_model(l2_model, training_data, \"train\")"
   ]
  },
  {
   "cell_type": "code",
   "execution_count": 17,
   "metadata": {},
   "outputs": [
    {
     "name": "stdout",
     "output_type": "stream",
     "text": [
      "Mean test MCC 0.98, Mean loss: 0.0691480\n"
     ]
    }
   ],
   "source": [
    "l2_model_test_results = evaluate_model(l2_model, test_data, \"test\")"
   ]
  },
  {
   "cell_type": "markdown",
   "metadata": {},
   "source": [
    "## L1 Regularization"
   ]
  },
  {
   "cell_type": "code",
   "execution_count": 18,
   "metadata": {},
   "outputs": [
    {
     "name": "stdout",
     "output_type": "stream",
     "text": [
      "RegularizedMnistMLP(\n",
      "  (mlp): Sequential(\n",
      "    (0): Linear(in_features=784, out_features=784, bias=True)\n",
      "    (1): ReLU()\n",
      "    (2): Linear(in_features=784, out_features=392, bias=True)\n",
      "    (3): ReLU()\n",
      "    (4): Linear(in_features=392, out_features=10, bias=True)\n",
      "    (5): LogSoftmax(dim=1)\n",
      "  )\n",
      "  (loss): NLLLoss()\n",
      ")\n"
     ]
    }
   ],
   "source": [
    "\n",
    "l1_model = RegularizedMnistMLP(norm=1, rate=0.01)\n",
    "print(l1_model)"
   ]
  },
  {
   "cell_type": "code",
   "execution_count": 19,
   "metadata": {},
   "outputs": [
    {
     "name": "stdout",
     "output_type": "stream",
     "text": [
      "No model found at trained_models\\l1_model.pt. Fitting...\n",
      "Loss: 1.528984 [    1/   50]\n",
      "Loss: 0.209676 [   10/   50]\n",
      "Loss: 0.122454 [   20/   50]\n",
      "Loss: 0.080041 [   30/   50]\n",
      "Loss: 0.055337 [   40/   50]\n",
      "Loss: 0.039831 [   50/   50]\n",
      "Model fit, saving weights to trained_models\\l1_model.pt.\n"
     ]
    }
   ],
   "source": [
    "l1_model = get_fit_model(l1_model, \"l1_model\", training_data, force_train=False)"
   ]
  },
  {
   "cell_type": "code",
   "execution_count": 20,
   "metadata": {},
   "outputs": [
    {
     "name": "stdout",
     "output_type": "stream",
     "text": [
      "Mean train MCC 0.99, Mean loss: 0.0376188\n"
     ]
    }
   ],
   "source": [
    "l1_model_train_results = evaluate_model(l1_model, training_data, \"train\")"
   ]
  },
  {
   "cell_type": "code",
   "execution_count": 21,
   "metadata": {},
   "outputs": [
    {
     "name": "stdout",
     "output_type": "stream",
     "text": [
      "Mean test MCC 0.98, Mean loss: 0.0713448\n"
     ]
    }
   ],
   "source": [
    "l1_model_test_results = evaluate_model(l1_model, test_data, \"test\")"
   ]
  },
  {
   "cell_type": "markdown",
   "metadata": {},
   "source": [
    "## Results\n",
    "\n",
    "We see from the printed results, that the full model along with the L1 + L2 **weight** regularized models achieve similar test results, with L2 performing the best with MCC=0.99. Likewise, we see L2 weight decay set via `SGD` results in an underfit model -- possibly due to regularization of biases. These results are explored graphically below. "
   ]
  },
  {
   "cell_type": "code",
   "execution_count": 24,
   "metadata": {},
   "outputs": [],
   "source": [
    "import pandas as pd\n",
    "import seaborn as sns\n",
    "\n",
    "dfs = []\n",
    "for model, name in zip([full_model, weight_decay_model, l2_model, l1_model],\n",
    "                       [\"full\", \"weight decay\", \"L2\", \"L1\"]):\n",
    "    dfs.append(\n",
    "        pd.DataFrame(\n",
    "            {'mean_loss': model.mean_loss_, 'loss_std': model.std_loss_, \"epoch\": model.epochs_,\"model\": name}\n",
    "        )\n",
    "    )"
   ]
  },
  {
   "cell_type": "code",
   "execution_count": 25,
   "metadata": {},
   "outputs": [
    {
     "data": {
      "text/html": [
       "<div>\n",
       "<style scoped>\n",
       "    .dataframe tbody tr th:only-of-type {\n",
       "        vertical-align: middle;\n",
       "    }\n",
       "\n",
       "    .dataframe tbody tr th {\n",
       "        vertical-align: top;\n",
       "    }\n",
       "\n",
       "    .dataframe thead th {\n",
       "        text-align: right;\n",
       "    }\n",
       "</style>\n",
       "<table border=\"1\" class=\"dataframe\">\n",
       "  <thead>\n",
       "    <tr style=\"text-align: right;\">\n",
       "      <th></th>\n",
       "      <th>mean_loss</th>\n",
       "      <th>loss_std</th>\n",
       "      <th>epoch</th>\n",
       "      <th>model</th>\n",
       "    </tr>\n",
       "  </thead>\n",
       "  <tbody>\n",
       "    <tr>\n",
       "      <th>0</th>\n",
       "      <td>1.501318</td>\n",
       "      <td>0.596629</td>\n",
       "      <td>0</td>\n",
       "      <td>full</td>\n",
       "    </tr>\n",
       "    <tr>\n",
       "      <th>1</th>\n",
       "      <td>0.208726</td>\n",
       "      <td>0.084429</td>\n",
       "      <td>9</td>\n",
       "      <td>full</td>\n",
       "    </tr>\n",
       "    <tr>\n",
       "      <th>2</th>\n",
       "      <td>0.121589</td>\n",
       "      <td>0.062131</td>\n",
       "      <td>19</td>\n",
       "      <td>full</td>\n",
       "    </tr>\n",
       "    <tr>\n",
       "      <th>3</th>\n",
       "      <td>0.079487</td>\n",
       "      <td>0.049735</td>\n",
       "      <td>29</td>\n",
       "      <td>full</td>\n",
       "    </tr>\n",
       "    <tr>\n",
       "      <th>4</th>\n",
       "      <td>0.054551</td>\n",
       "      <td>0.038203</td>\n",
       "      <td>39</td>\n",
       "      <td>full</td>\n",
       "    </tr>\n",
       "  </tbody>\n",
       "</table>\n",
       "</div>"
      ],
      "text/plain": [
       "   mean_loss  loss_std  epoch model\n",
       "0   1.501318  0.596629      0  full\n",
       "1   0.208726  0.084429      9  full\n",
       "2   0.121589  0.062131     19  full\n",
       "3   0.079487  0.049735     29  full\n",
       "4   0.054551  0.038203     39  full"
      ]
     },
     "execution_count": 25,
     "metadata": {},
     "output_type": "execute_result"
    }
   ],
   "source": [
    "training_df = pd.concat(dfs)\n",
    "training_df.head()"
   ]
  },
  {
   "cell_type": "code",
   "execution_count": 52,
   "metadata": {},
   "outputs": [
    {
     "data": {
      "text/plain": [
       "Text(0.0, 1.0, 'Loss during training')"
      ]
     },
     "execution_count": 52,
     "metadata": {},
     "output_type": "execute_result"
    },
    {
     "data": {
      "image/png": "[encoded data removed]",
      "text/plain": [
       "<Figure size 640x480 with 1 Axes>"
      ]
     },
     "metadata": {},
     "output_type": "display_data"
    }
   ],
   "source": [
    "from matplotlib import pyplot as plt\n",
    "fig, ax = plt.subplots()\n",
    "for each in training_df.model.unique():\n",
    "    subset = training_df.query(\"model == @each\")\n",
    "    ax.scatter(subset.epoch, subset.mean_loss, label=each)\n",
    "    ax.errorbar(subset.epoch, subset.mean_loss, yerr=subset.loss_std)\n",
    "ax.set_yscale('log')\n",
    "ax.spines[['top', 'right']].set_visible(False)\n",
    "ax.legend(loc='upper left', bbox_to_anchor=(1, 1))\n",
    "ax.set_title(\"Loss during training\", loc='left')\n"
   ]
  },
  {
   "cell_type": "code",
   "execution_count": 82,
   "metadata": {},
   "outputs": [],
   "source": [
    "dfs = []\n",
    "results = {\n",
    "    \"train\": {\n",
    "        \"full\": full_model_train_results,\n",
    "        \"decay\": weight_decay_model_train_results,\n",
    "        \"L2\": l2_model_train_results,\n",
    "        \"L1\": l1_model_train_results\n",
    "    },\n",
    "    \"test\":  {\n",
    "        \"full\": full_model_test_results,\n",
    "        \"decay\": weight_decay_model_test_results,\n",
    "        \"L2\": l2_model_test_results,\n",
    "        \"L1\": l1_model_test_results\n",
    "    }\n",
    "}\n",
    "for split, data in results.items():\n",
    "    for key, res in data.items():\n",
    "        dfs.append(\n",
    "            pd.DataFrame(\n",
    "                {\"MCC\": res[0], \"Loss\": res[1], \"Model\": key, \"Split\": split}\n",
    "            )\n",
    "        )"
   ]
  },
  {
   "cell_type": "code",
   "execution_count": 83,
   "metadata": {},
   "outputs": [
    {
     "data": {
      "text/html": [
       "<div>\n",
       "<style scoped>\n",
       "    .dataframe tbody tr th:only-of-type {\n",
       "        vertical-align: middle;\n",
       "    }\n",
       "\n",
       "    .dataframe tbody tr th {\n",
       "        vertical-align: top;\n",
       "    }\n",
       "\n",
       "    .dataframe thead th {\n",
       "        text-align: right;\n",
       "    }\n",
       "</style>\n",
       "<table border=\"1\" class=\"dataframe\">\n",
       "  <thead>\n",
       "    <tr style=\"text-align: right;\">\n",
       "      <th></th>\n",
       "      <th>Model</th>\n",
       "      <th>Split</th>\n",
       "      <th>variable</th>\n",
       "      <th>value</th>\n",
       "    </tr>\n",
       "  </thead>\n",
       "  <tbody>\n",
       "    <tr>\n",
       "      <th>0</th>\n",
       "      <td>full</td>\n",
       "      <td>train</td>\n",
       "      <td>MCC</td>\n",
       "      <td>0.964807</td>\n",
       "    </tr>\n",
       "    <tr>\n",
       "      <th>1</th>\n",
       "      <td>full</td>\n",
       "      <td>train</td>\n",
       "      <td>MCC</td>\n",
       "      <td>1.000000</td>\n",
       "    </tr>\n",
       "    <tr>\n",
       "      <th>2</th>\n",
       "      <td>full</td>\n",
       "      <td>train</td>\n",
       "      <td>MCC</td>\n",
       "      <td>0.982659</td>\n",
       "    </tr>\n",
       "    <tr>\n",
       "      <th>3</th>\n",
       "      <td>full</td>\n",
       "      <td>train</td>\n",
       "      <td>MCC</td>\n",
       "      <td>1.000000</td>\n",
       "    </tr>\n",
       "    <tr>\n",
       "      <th>4</th>\n",
       "      <td>full</td>\n",
       "      <td>train</td>\n",
       "      <td>MCC</td>\n",
       "      <td>0.982774</td>\n",
       "    </tr>\n",
       "  </tbody>\n",
       "</table>\n",
       "</div>"
      ],
      "text/plain": [
       "  Model  Split variable     value\n",
       "0  full  train      MCC  0.964807\n",
       "1  full  train      MCC  1.000000\n",
       "2  full  train      MCC  0.982659\n",
       "3  full  train      MCC  1.000000\n",
       "4  full  train      MCC  0.982774"
      ]
     },
     "execution_count": 83,
     "metadata": {},
     "output_type": "execute_result"
    }
   ],
   "source": [
    "results_df = pd.concat(dfs).melt(id_vars = ['Model', 'Split'])\n",
    "results_df.head()"
   ]
  },
  {
   "cell_type": "code",
   "execution_count": 84,
   "metadata": {},
   "outputs": [
    {
     "data": {
      "image/png": "[encoded data removed]",
      "text/plain": [
       "<Figure size 600x600 with 4 Axes>"
      ]
     },
     "metadata": {},
     "output_type": "display_data"
    }
   ],
   "source": [
    "g = sns.FacetGrid(results_df, row = \"variable\", col=\"Split\", sharey=False)\n",
    "g.map_dataframe(sns.boxplot, x=\"Model\", y=\"value\")\n",
    "for ax in g.axes[1, :]:\n",
    "    ax.set_yscale('log')"
   ]
  }
 ],
 "metadata": {
  "kernelspec": {
   "display_name": "base",
   "language": "python",
   "name": "python3"
  },
  "language_info": {
   "codemirror_mode": {
    "name": "ipython",
    "version": 3
   },
   "file_extension": ".py",
   "mimetype": "text/x-python",
   "name": "python",
   "nbconvert_exporter": "python",
   "pygments_lexer": "ipython3",
   "version": "3.11.7"
  }
 },
 "nbformat": 4,
 "nbformat_minor": 2
}
